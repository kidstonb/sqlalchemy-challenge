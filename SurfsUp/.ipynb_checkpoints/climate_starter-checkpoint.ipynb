{
 "cells": [
  {
   "cell_type": "code",
   "execution_count": 76,
   "metadata": {},
   "outputs": [],
   "source": [
    "%matplotlib inline\n",
    "from matplotlib import style\n",
    "style.use('fivethirtyeight')\n",
    "import matplotlib.pyplot as plt"
   ]
  },
  {
   "cell_type": "code",
   "execution_count": 77,
   "metadata": {},
   "outputs": [],
   "source": [
    "import numpy as np\n",
    "import pandas as pd\n",
    "import datetime as dt"
   ]
  },
  {
   "cell_type": "markdown",
   "metadata": {},
   "source": [
    "# Reflect Tables into SQLAlchemy ORM"
   ]
  },
  {
   "cell_type": "code",
   "execution_count": 78,
   "metadata": {},
   "outputs": [],
   "source": [
    "# Python SQL toolkit and Object Relational Mapper\n",
    "import sqlalchemy\n",
    "from sqlalchemy.ext.automap import automap_base\n",
    "from sqlalchemy.orm import Session\n",
    "from sqlalchemy import create_engine, func, inspect"
   ]
  },
  {
   "cell_type": "code",
   "execution_count": 79,
   "metadata": {},
   "outputs": [],
   "source": [
    "# create engine to hawaii.sqlite\n",
    "engine = create_engine(\"sqlite:///../Resources/hawaii.sqlite\")"
   ]
  },
  {
   "cell_type": "code",
   "execution_count": 80,
   "metadata": {},
   "outputs": [],
   "source": [
    "# reflect an existing database into a new model\n",
    "Base = automap_base()\n",
    "\n",
    "# reflect the tables\n",
    "Base.prepare(autoload_with=engine)"
   ]
  },
  {
   "cell_type": "code",
   "execution_count": 81,
   "metadata": {},
   "outputs": [
    {
     "data": {
      "text/plain": [
       "['measurement', 'station']"
      ]
     },
     "execution_count": 81,
     "metadata": {},
     "output_type": "execute_result"
    }
   ],
   "source": [
    "# View all of the classes that automap found\n",
    "Base.classes.keys()"
   ]
  },
  {
   "cell_type": "code",
   "execution_count": 7,
   "metadata": {},
   "outputs": [],
   "source": [
    "# Save references to each table\n",
    "Measurement = Base.classes.measurement\n",
    "Station = Base.classes.station"
   ]
  },
  {
   "cell_type": "code",
   "execution_count": 8,
   "metadata": {},
   "outputs": [],
   "source": [
    "# Create our session (link) from Python to the DB\n",
    "session = Session(engine)"
   ]
  },
  {
   "cell_type": "markdown",
   "metadata": {},
   "source": [
    "# Exploratory Precipitation Analysis"
   ]
  },
  {
   "cell_type": "code",
   "execution_count": 9,
   "metadata": {},
   "outputs": [],
   "source": [
    "# Inspector = inspect(Measurement)\n",
    "# for column in Inspector.c:\n",
    "#     print(column.name)"
   ]
  },
  {
   "cell_type": "code",
   "execution_count": 10,
   "metadata": {
    "scrolled": false
   },
   "outputs": [
    {
     "name": "stdout",
     "output_type": "stream",
     "text": [
      "id INTEGER\n",
      "station TEXT\n",
      "date TEXT\n",
      "prcp FLOAT\n",
      "tobs FLOAT\n"
     ]
    }
   ],
   "source": [
    "Inspector = inspect(engine)\n",
    "columns = Inspector.get_columns('Measurement')\n",
    "for c in columns:\n",
    "    print(c['name'], c['type'])"
   ]
  },
  {
   "cell_type": "code",
   "execution_count": 11,
   "metadata": {
    "scrolled": true
   },
   "outputs": [
    {
     "data": {
      "text/plain": [
       "('2017-08-23',)"
      ]
     },
     "execution_count": 11,
     "metadata": {},
     "output_type": "execute_result"
    }
   ],
   "source": [
    "# Find the most recent date in the data set.\n",
    "session.query(Measurement.date).order_by(Measurement.date.desc()).first()"
   ]
  },
  {
   "cell_type": "code",
   "execution_count": 12,
   "metadata": {},
   "outputs": [
    {
     "data": {
      "text/plain": [
       "[(2724, '2017-08-23', 'USC00519397'),\n",
       " (7635, '2017-08-23', 'USC00514830'),\n",
       " (12187, '2017-08-23', 'USC00519523'),\n",
       " (19550, '2017-08-23', 'USC00516128'),\n",
       " (2723, '2017-08-22', 'USC00519397'),\n",
       " (12186, '2017-08-22', 'USC00519523'),\n",
       " (19549, '2017-08-22', 'USC00516128'),\n",
       " (2722, '2017-08-21', 'USC00519397'),\n",
       " (7634, '2017-08-21', 'USC00514830'),\n",
       " (12185, '2017-08-21', 'USC00519523'),\n",
       " (19548, '2017-08-21', 'USC00516128'),\n",
       " (2721, '2017-08-20', 'USC00519397'),\n",
       " (7633, '2017-08-20', 'USC00514830'),\n",
       " (19547, '2017-08-20', 'USC00516128'),\n",
       " (2720, '2017-08-19', 'USC00519397'),\n",
       " (7632, '2017-08-19', 'USC00514830'),\n",
       " (12184, '2017-08-19', 'USC00519523'),\n",
       " (19546, '2017-08-19', 'USC00516128'),\n",
       " (2719, '2017-08-18', 'USC00519397'),\n",
       " (7631, '2017-08-18', 'USC00514830'),\n",
       " (14959, '2017-08-18', 'USC00519281'),\n",
       " (19545, '2017-08-18', 'USC00516128'),\n",
       " (7630, '2017-08-17', 'USC00514830'),\n",
       " (12183, '2017-08-17', 'USC00519523'),\n",
       " (14958, '2017-08-17', 'USC00519281'),\n",
       " (19544, '2017-08-17', 'USC00516128'),\n",
       " (7629, '2017-08-16', 'USC00514830'),\n",
       " (12182, '2017-08-16', 'USC00519523'),\n",
       " (14957, '2017-08-16', 'USC00519281'),\n",
       " (19543, '2017-08-16', 'USC00516128'),\n",
       " (2718, '2017-08-15', 'USC00519397'),\n",
       " (7628, '2017-08-15', 'USC00514830'),\n",
       " (12181, '2017-08-15', 'USC00519523'),\n",
       " (14956, '2017-08-15', 'USC00519281'),\n",
       " (19542, '2017-08-15', 'USC00516128'),\n",
       " (2717, '2017-08-14', 'USC00519397'),\n",
       " (7627, '2017-08-14', 'USC00514830'),\n",
       " (12180, '2017-08-14', 'USC00519523'),\n",
       " (14955, '2017-08-14', 'USC00519281'),\n",
       " (19541, '2017-08-14', 'USC00516128'),\n",
       " (2716, '2017-08-13', 'USC00519397'),\n",
       " (7626, '2017-08-13', 'USC00514830'),\n",
       " (12179, '2017-08-13', 'USC00519523'),\n",
       " (14954, '2017-08-13', 'USC00519281'),\n",
       " (19540, '2017-08-13', 'USC00516128'),\n",
       " (2715, '2017-08-12', 'USC00519397'),\n",
       " (12178, '2017-08-12', 'USC00519523'),\n",
       " (19539, '2017-08-12', 'USC00516128'),\n",
       " (2714, '2017-08-11', 'USC00519397'),\n",
       " (7625, '2017-08-11', 'USC00514830')]"
      ]
     },
     "execution_count": 12,
     "metadata": {},
     "output_type": "execute_result"
    }
   ],
   "source": [
    "session.query(Measurement.id,Measurement.date, Measurement.station).order_by(Measurement.date.desc()).limit(50).all()"
   ]
  },
  {
   "cell_type": "code",
   "execution_count": 69,
   "metadata": {},
   "outputs": [
    {
     "data": {
      "text/plain": [
       "('2014-07-20', 11.53)"
      ]
     },
     "execution_count": 69,
     "metadata": {},
     "output_type": "execute_result"
    }
   ],
   "source": [
    "# session.query(Measurement.date,Measurement.prcp).filter(Measurement.station == 'USC00511918').order_by(Measurement.date.desc()).all()\n",
    "# session.query(Measurement.date, Measurement.prcp).order_by(Measurement.prcp.desc()).first()\n",
    "# session.query(Measurement.date).order_by(Measurement.date.desc()).first()"
   ]
  },
  {
   "cell_type": "code",
   "execution_count": 64,
   "metadata": {},
   "outputs": [],
   "source": [
    "#     filter(func.strftime(Measurement.date) > '2016-08-23').\\\n",
    "# prcp = session.query(Measurement.date, Measurement.prcp).\\\n",
    "#     filter(Measurement.date > '2016-08-23').\\\n",
    "#     filter(Measurement.station == 'USC00511918').\\\n",
    "#     group_by(Measurement.date).\\\n",
    "#     all()\n",
    "# prcp"
   ]
  },
  {
   "cell_type": "code",
   "execution_count": 73,
   "metadata": {},
   "outputs": [
    {
     "data": {
      "image/png": "[encoded data removed]",
      "text/plain": [
       "<Figure size 432x288 with 1 Axes>"
      ]
     },
     "metadata": {},
     "output_type": "display_data"
    }
   ],
   "source": [
    "# Design a query to retrieve the last 12 months of precipitation data and plot the results. \n",
    "# Starting from the most recent data point in the database. \n",
    "\n",
    "# Calculate the date one year from the last date in data set.\n",
    "# Last date is 2017-08-23, so one year before is 2016-08-23\n",
    "\n",
    "# Perform a query to retrieve the data and precipitation scores\n",
    "# session.query(Measurement.date, Measurement.prcp).filter(func.date(Measurement.date) > '2016-08-23').distinct().all()\n",
    "\n",
    "# Need to do just for Honolulu station #     filter(Measurement.station == 'USC00511918').\\\n",
    "prcp = session.query(Measurement.date, Measurement.prcp).\\\n",
    "    filter(func.strftime(Measurement.date) > '2016-08-23').\\\n",
    "    group_by(Measurement.date).\\\n",
    "    all()\n",
    "\n",
    "# Save the query results as a Pandas DataFrame and set the index to the date column\n",
    "df = pd.DataFrame(prcp)\n",
    "df.set_index('date')\n",
    "\n",
    "# Sort the dataframe by date\n",
    "\n",
    "\n",
    "# Use Pandas Plotting with Matplotlib to plot the data\n",
    "# ***Need to do some kind of xticks for date\n",
    "df.plot(legend=None)\n",
    "plt.xlabel('Date')\n",
    "plt.ylabel('Precipitation')\n",
    "plt.show()\n"
   ]
  },
  {
   "cell_type": "code",
   "execution_count": 15,
   "metadata": {},
   "outputs": [
    {
     "data": {
      "text/html": [
       "<div>\n",
       "<style scoped>\n",
       "    .dataframe tbody tr th:only-of-type {\n",
       "        vertical-align: middle;\n",
       "    }\n",
       "\n",
       "    .dataframe tbody tr th {\n",
       "        vertical-align: top;\n",
       "    }\n",
       "\n",
       "    .dataframe thead th {\n",
       "        text-align: right;\n",
       "    }\n",
       "</style>\n",
       "<table border=\"1\" class=\"dataframe\">\n",
       "  <thead>\n",
       "    <tr style=\"text-align: right;\">\n",
       "      <th></th>\n",
       "      <th>prcp</th>\n",
       "    </tr>\n",
       "  </thead>\n",
       "  <tbody>\n",
       "    <tr>\n",
       "      <th>count</th>\n",
       "      <td>363.000000</td>\n",
       "    </tr>\n",
       "    <tr>\n",
       "      <th>mean</th>\n",
       "      <td>0.048843</td>\n",
       "    </tr>\n",
       "    <tr>\n",
       "      <th>std</th>\n",
       "      <td>0.205197</td>\n",
       "    </tr>\n",
       "    <tr>\n",
       "      <th>min</th>\n",
       "      <td>0.000000</td>\n",
       "    </tr>\n",
       "    <tr>\n",
       "      <th>25%</th>\n",
       "      <td>0.000000</td>\n",
       "    </tr>\n",
       "    <tr>\n",
       "      <th>50%</th>\n",
       "      <td>0.000000</td>\n",
       "    </tr>\n",
       "    <tr>\n",
       "      <th>75%</th>\n",
       "      <td>0.020000</td>\n",
       "    </tr>\n",
       "    <tr>\n",
       "      <th>max</th>\n",
       "      <td>2.620000</td>\n",
       "    </tr>\n",
       "  </tbody>\n",
       "</table>\n",
       "</div>"
      ],
      "text/plain": [
       "             prcp\n",
       "count  363.000000\n",
       "mean     0.048843\n",
       "std      0.205197\n",
       "min      0.000000\n",
       "25%      0.000000\n",
       "50%      0.000000\n",
       "75%      0.020000\n",
       "max      2.620000"
      ]
     },
     "execution_count": 15,
     "metadata": {},
     "output_type": "execute_result"
    }
   ],
   "source": [
    "# Use Pandas to calcualte the summary statistics for the precipitation data\n",
    "df.describe()"
   ]
  },
  {
   "cell_type": "markdown",
   "metadata": {},
   "source": [
    "# Exploratory Station Analysis"
   ]
  },
  {
   "cell_type": "code",
   "execution_count": 16,
   "metadata": {},
   "outputs": [
    {
     "name": "stdout",
     "output_type": "stream",
     "text": [
      "id INTEGER\n",
      "station TEXT\n",
      "name TEXT\n",
      "latitude FLOAT\n",
      "longitude FLOAT\n",
      "elevation FLOAT\n"
     ]
    }
   ],
   "source": [
    "columns = Inspector.get_columns('Station')\n",
    "for c in columns:\n",
    "    print(c['name'], c['type'])"
   ]
  },
  {
   "cell_type": "code",
   "execution_count": 17,
   "metadata": {},
   "outputs": [
    {
     "data": {
      "text/plain": [
       "[(1, 'USC00519397', 'WAIKIKI 717.2, HI US'),\n",
       " (2, 'USC00513117', 'KANEOHE 838.1, HI US'),\n",
       " (3, 'USC00514830', 'KUALOA RANCH HEADQUARTERS 886.9, HI US'),\n",
       " (4, 'USC00517948', 'PEARL CITY, HI US'),\n",
       " (5, 'USC00518838', 'UPPER WAHIAWA 874.3, HI US'),\n",
       " (6, 'USC00519523', 'WAIMANALO EXPERIMENTAL FARM, HI US'),\n",
       " (7, 'USC00519281', 'WAIHEE 837.5, HI US'),\n",
       " (8, 'USC00511918', 'HONOLULU OBSERVATORY 702.2, HI US'),\n",
       " (9, 'USC00516128', 'MANOA LYON ARBO 785.2, HI US')]"
      ]
     },
     "execution_count": 17,
     "metadata": {},
     "output_type": "execute_result"
    }
   ],
   "source": [
    "session.query(Station.id, Station.station, Station.name).all()\n",
    "# order_by(Station.date.desc())"
   ]
  },
  {
   "cell_type": "code",
   "execution_count": 18,
   "metadata": {},
   "outputs": [
    {
     "data": {
      "text/plain": [
       "9"
      ]
     },
     "execution_count": 18,
     "metadata": {},
     "output_type": "execute_result"
    }
   ],
   "source": [
    "# Design a query to calculate the total number stations in the dataset\n",
    "session.query(Measurement.station).distinct().count()"
   ]
  },
  {
   "cell_type": "code",
   "execution_count": 19,
   "metadata": {},
   "outputs": [
    {
     "data": {
      "text/plain": [
       "[(12188, 'USC00519281', 2772),\n",
       " (1, 'USC00519397', 2724),\n",
       " (2725, 'USC00513117', 2709),\n",
       " (9519, 'USC00519523', 2669),\n",
       " (16939, 'USC00516128', 2612),\n",
       " (5434, 'USC00514830', 2202),\n",
       " (14960, 'USC00511918', 1979),\n",
       " (7636, 'USC00517948', 1372),\n",
       " (9008, 'USC00518838', 511)]"
      ]
     },
     "execution_count": 19,
     "metadata": {},
     "output_type": "execute_result"
    }
   ],
   "source": [
    "# Design a query to find the most active stations (i.e. what stations have the most rows?)\n",
    "# List the stations and the counts in descending order.\n",
    "session.query(Measurement.id,Measurement.station,func.count(Measurement.station)).group_by(Measurement.station).order_by(func.count(Measurement.station).desc()).distinct().all()"
   ]
  },
  {
   "cell_type": "code",
   "execution_count": 42,
   "metadata": {},
   "outputs": [
    {
     "data": {
      "text/plain": [
       "[('USC00519281', 71.66378066378067, 85.0, 54.0)]"
      ]
     },
     "execution_count": 42,
     "metadata": {},
     "output_type": "execute_result"
    }
   ],
   "source": [
    "# Using the most active station id from the previous query, calculate the lowest, highest, and average temperature.\n",
    "# session.query(func.avg(Measurement))\n",
    "session.query(Measurement.station,func.avg(Measurement.tobs),func.max(Measurement.tobs),func.min(Measurement.tobs))\\\n",
    "    .filter(Measurement.station == 'USC00519281')\\\n",
    "    .group_by(Measurement.station)\\\n",
    "    .all()"
   ]
  },
  {
   "cell_type": "code",
   "execution_count": 38,
   "metadata": {},
   "outputs": [
    {
     "data": {
      "text/plain": [
       "[(77.0,),\n",
       " (80.0,),\n",
       " (80.0,),\n",
       " (75.0,),\n",
       " (73.0,),\n",
       " (78.0,),\n",
       " (77.0,),\n",
       " (78.0,),\n",
       " (80.0,),\n",
       " (80.0,),\n",
       " (78.0,),\n",
       " (78.0,),\n",
       " (78.0,),\n",
       " (73.0,),\n",
       " (74.0,),\n",
       " (80.0,),\n",
       " (79.0,),\n",
       " (77.0,),\n",
       " (80.0,),\n",
       " (76.0,),\n",
       " (79.0,),\n",
       " (75.0,),\n",
       " (79.0,),\n",
       " (78.0,),\n",
       " (79.0,),\n",
       " (78.0,),\n",
       " (78.0,),\n",
       " (76.0,),\n",
       " (74.0,),\n",
       " (77.0,),\n",
       " (78.0,),\n",
       " (79.0,),\n",
       " (79.0,),\n",
       " (77.0,),\n",
       " (80.0,),\n",
       " (78.0,),\n",
       " (78.0,),\n",
       " (78.0,),\n",
       " (77.0,),\n",
       " (79.0,),\n",
       " (79.0,),\n",
       " (79.0,),\n",
       " (79.0,),\n",
       " (75.0,),\n",
       " (76.0,),\n",
       " (73.0,),\n",
       " (72.0,),\n",
       " (71.0,),\n",
       " (77.0,),\n",
       " (79.0,),\n",
       " (78.0,),\n",
       " (79.0,),\n",
       " (77.0,),\n",
       " (79.0,),\n",
       " (77.0,),\n",
       " (78.0,),\n",
       " (78.0,),\n",
       " (78.0,),\n",
       " (78.0,),\n",
       " (77.0,),\n",
       " (74.0,),\n",
       " (75.0,),\n",
       " (76.0,),\n",
       " (73.0,),\n",
       " (76.0,),\n",
       " (74.0,),\n",
       " (77.0,),\n",
       " (76.0,),\n",
       " (76.0,),\n",
       " (74.0,),\n",
       " (75.0,),\n",
       " (75.0,),\n",
       " (75.0,),\n",
       " (75.0,),\n",
       " (71.0,),\n",
       " (63.0,),\n",
       " (70.0,),\n",
       " (68.0,),\n",
       " (67.0,),\n",
       " (77.0,),\n",
       " (74.0,),\n",
       " (77.0,),\n",
       " (76.0,),\n",
       " (76.0,),\n",
       " (75.0,),\n",
       " (76.0,),\n",
       " (75.0,),\n",
       " (73.0,),\n",
       " (75.0,),\n",
       " (73.0,),\n",
       " (75.0,),\n",
       " (74.0,),\n",
       " (75.0,),\n",
       " (74.0,),\n",
       " (75.0,),\n",
       " (73.0,),\n",
       " (75.0,),\n",
       " (73.0,),\n",
       " (73.0,),\n",
       " (74.0,),\n",
       " (70.0,),\n",
       " (72.0,),\n",
       " (70.0,),\n",
       " (67.0,),\n",
       " (67.0,),\n",
       " (69.0,),\n",
       " (70.0,),\n",
       " (68.0,),\n",
       " (69.0,),\n",
       " (69.0,),\n",
       " (66.0,),\n",
       " (65.0,),\n",
       " (68.0,),\n",
       " (62.0,),\n",
       " (75.0,),\n",
       " (70.0,),\n",
       " (69.0,),\n",
       " (76.0,),\n",
       " (76.0,),\n",
       " (74.0,),\n",
       " (73.0,),\n",
       " (71.0,),\n",
       " (74.0,),\n",
       " (74.0,),\n",
       " (72.0,),\n",
       " (71.0,),\n",
       " (72.0,),\n",
       " (74.0,),\n",
       " (69.0,),\n",
       " (67.0,),\n",
       " (72.0,),\n",
       " (70.0,),\n",
       " (64.0,),\n",
       " (63.0,),\n",
       " (63.0,),\n",
       " (62.0,),\n",
       " (70.0,),\n",
       " (70.0,),\n",
       " (62.0,),\n",
       " (62.0,),\n",
       " (63.0,),\n",
       " (65.0,),\n",
       " (69.0,),\n",
       " (77.0,),\n",
       " (70.0,),\n",
       " (74.0,),\n",
       " (69.0,),\n",
       " (72.0,),\n",
       " (71.0,),\n",
       " (69.0,),\n",
       " (71.0,),\n",
       " (71.0,),\n",
       " (72.0,),\n",
       " (72.0,),\n",
       " (69.0,),\n",
       " (70.0,),\n",
       " (66.0,),\n",
       " (65.0,),\n",
       " (69.0,),\n",
       " (68.0,),\n",
       " (68.0,),\n",
       " (68.0,),\n",
       " (59.0,),\n",
       " (60.0,),\n",
       " (70.0,),\n",
       " (73.0,),\n",
       " (75.0,),\n",
       " (64.0,),\n",
       " (59.0,),\n",
       " (59.0,),\n",
       " (62.0,),\n",
       " (68.0,),\n",
       " (70.0,),\n",
       " (73.0,),\n",
       " (79.0,),\n",
       " (75.0,),\n",
       " (65.0,),\n",
       " (70.0,),\n",
       " (74.0,),\n",
       " (70.0,),\n",
       " (70.0,),\n",
       " (71.0,),\n",
       " (71.0,),\n",
       " (71.0,),\n",
       " (69.0,),\n",
       " (61.0,),\n",
       " (67.0,),\n",
       " (65.0,),\n",
       " (72.0,),\n",
       " (71.0,),\n",
       " (73.0,),\n",
       " (72.0,),\n",
       " (77.0,),\n",
       " (73.0,),\n",
       " (67.0,),\n",
       " (62.0,),\n",
       " (64.0,),\n",
       " (67.0,),\n",
       " (66.0,),\n",
       " (81.0,),\n",
       " (69.0,),\n",
       " (66.0,),\n",
       " (67.0,),\n",
       " (69.0,),\n",
       " (66.0,),\n",
       " (68.0,),\n",
       " (65.0,),\n",
       " (74.0,),\n",
       " (69.0,),\n",
       " (72.0,),\n",
       " (73.0,),\n",
       " (72.0,),\n",
       " (71.0,),\n",
       " (76.0,),\n",
       " (77.0,),\n",
       " (76.0,),\n",
       " (74.0,),\n",
       " (68.0,),\n",
       " (73.0,),\n",
       " (71.0,),\n",
       " (74.0,),\n",
       " (75.0,),\n",
       " (70.0,),\n",
       " (67.0,),\n",
       " (71.0,),\n",
       " (67.0,),\n",
       " (74.0,),\n",
       " (77.0,),\n",
       " (78.0,),\n",
       " (67.0,),\n",
       " (70.0,),\n",
       " (69.0,),\n",
       " (69.0,),\n",
       " (74.0,),\n",
       " (78.0,),\n",
       " (71.0,),\n",
       " (67.0,),\n",
       " (68.0,),\n",
       " (67.0,),\n",
       " (76.0,),\n",
       " (69.0,),\n",
       " (72.0,),\n",
       " (76.0,),\n",
       " (68.0,),\n",
       " (72.0,),\n",
       " (74.0,),\n",
       " (70.0,),\n",
       " (67.0,),\n",
       " (72.0,),\n",
       " (60.0,),\n",
       " (65.0,),\n",
       " (75.0,),\n",
       " (70.0,),\n",
       " (75.0,),\n",
       " (70.0,),\n",
       " (79.0,),\n",
       " (75.0,),\n",
       " (70.0,),\n",
       " (67.0,),\n",
       " (74.0,),\n",
       " (70.0,),\n",
       " (75.0,),\n",
       " (76.0,),\n",
       " (77.0,),\n",
       " (74.0,),\n",
       " (74.0,),\n",
       " (74.0,),\n",
       " (69.0,),\n",
       " (68.0,),\n",
       " (76.0,),\n",
       " (74.0,),\n",
       " (71.0,),\n",
       " (71.0,),\n",
       " (74.0,),\n",
       " (74.0,),\n",
       " (74.0,),\n",
       " (74.0,),\n",
       " (80.0,),\n",
       " (74.0,),\n",
       " (72.0,),\n",
       " (75.0,),\n",
       " (80.0,),\n",
       " (76.0,),\n",
       " (76.0,),\n",
       " (77.0,),\n",
       " (75.0,),\n",
       " (75.0,),\n",
       " (75.0,),\n",
       " (75.0,),\n",
       " (72.0,),\n",
       " (74.0,),\n",
       " (74.0,),\n",
       " (74.0,),\n",
       " (76.0,),\n",
       " (74.0,),\n",
       " (75.0,),\n",
       " (73.0,),\n",
       " (79.0,),\n",
       " (75.0,),\n",
       " (72.0,),\n",
       " (72.0,),\n",
       " (74.0,),\n",
       " (72.0,),\n",
       " (72.0,),\n",
       " (77.0,),\n",
       " (71.0,),\n",
       " (73.0,),\n",
       " (76.0,),\n",
       " (77.0,),\n",
       " (76.0,),\n",
       " (76.0,),\n",
       " (79.0,),\n",
       " (81.0,),\n",
       " (76.0,),\n",
       " (78.0,),\n",
       " (77.0,),\n",
       " (74.0,),\n",
       " (75.0,),\n",
       " (78.0,),\n",
       " (78.0,),\n",
       " (69.0,),\n",
       " (72.0,),\n",
       " (74.0,),\n",
       " (74.0,),\n",
       " (76.0,),\n",
       " (80.0,),\n",
       " (80.0,),\n",
       " (76.0,),\n",
       " (76.0,),\n",
       " (76.0,),\n",
       " (77.0,),\n",
       " (77.0,),\n",
       " (77.0,),\n",
       " (82.0,),\n",
       " (75.0,),\n",
       " (77.0,),\n",
       " (75.0,),\n",
       " (76.0,),\n",
       " (81.0,),\n",
       " (82.0,),\n",
       " (81.0,),\n",
       " (76.0,),\n",
       " (77.0,),\n",
       " (82.0,),\n",
       " (83.0,),\n",
       " (77.0,),\n",
       " (77.0,),\n",
       " (77.0,),\n",
       " (76.0,),\n",
       " (76.0,),\n",
       " (79.0,)]"
      ]
     },
     "execution_count": 38,
     "metadata": {},
     "output_type": "execute_result"
    }
   ],
   "source": [
    "# Using the most active station id\n",
    "# Query the last 12 months of temperature observation data for this station and plot the results as a histogram\n",
    "temp_hist = session.query(Measurement.tobs)\\\n",
    "    .filter(Measurement.station == 'USC00519281')\\\n",
    "    .filter(func.date(Measurement.date) > '2016-08-23')\\\n",
    "    .all()\n",
    "temp_hist"
   ]
  },
  {
   "cell_type": "code",
   "execution_count": 40,
   "metadata": {},
   "outputs": [
    {
     "data": {
      "text/html": [
       "<div>\n",
       "<style scoped>\n",
       "    .dataframe tbody tr th:only-of-type {\n",
       "        vertical-align: middle;\n",
       "    }\n",
       "\n",
       "    .dataframe tbody tr th {\n",
       "        vertical-align: top;\n",
       "    }\n",
       "\n",
       "    .dataframe thead th {\n",
       "        text-align: right;\n",
       "    }\n",
       "</style>\n",
       "<table border=\"1\" class=\"dataframe\">\n",
       "  <thead>\n",
       "    <tr style=\"text-align: right;\">\n",
       "      <th></th>\n",
       "      <th>tobs</th>\n",
       "    </tr>\n",
       "  </thead>\n",
       "  <tbody>\n",
       "    <tr>\n",
       "      <th>0</th>\n",
       "      <td>77.0</td>\n",
       "    </tr>\n",
       "    <tr>\n",
       "      <th>1</th>\n",
       "      <td>80.0</td>\n",
       "    </tr>\n",
       "    <tr>\n",
       "      <th>2</th>\n",
       "      <td>80.0</td>\n",
       "    </tr>\n",
       "    <tr>\n",
       "      <th>3</th>\n",
       "      <td>75.0</td>\n",
       "    </tr>\n",
       "    <tr>\n",
       "      <th>4</th>\n",
       "      <td>73.0</td>\n",
       "    </tr>\n",
       "    <tr>\n",
       "      <th>...</th>\n",
       "      <td>...</td>\n",
       "    </tr>\n",
       "    <tr>\n",
       "      <th>346</th>\n",
       "      <td>77.0</td>\n",
       "    </tr>\n",
       "    <tr>\n",
       "      <th>347</th>\n",
       "      <td>77.0</td>\n",
       "    </tr>\n",
       "    <tr>\n",
       "      <th>348</th>\n",
       "      <td>76.0</td>\n",
       "    </tr>\n",
       "    <tr>\n",
       "      <th>349</th>\n",
       "      <td>76.0</td>\n",
       "    </tr>\n",
       "    <tr>\n",
       "      <th>350</th>\n",
       "      <td>79.0</td>\n",
       "    </tr>\n",
       "  </tbody>\n",
       "</table>\n",
       "<p>351 rows × 1 columns</p>\n",
       "</div>"
      ],
      "text/plain": [
       "     tobs\n",
       "0    77.0\n",
       "1    80.0\n",
       "2    80.0\n",
       "3    75.0\n",
       "4    73.0\n",
       "..    ...\n",
       "346  77.0\n",
       "347  77.0\n",
       "348  76.0\n",
       "349  76.0\n",
       "350  79.0\n",
       "\n",
       "[351 rows x 1 columns]"
      ]
     },
     "execution_count": 40,
     "metadata": {},
     "output_type": "execute_result"
    }
   ],
   "source": [
    "# Put results into a dataframe for plotting\n",
    "temp_df = pd.DataFrame(temp_hist)\n",
    "temp_df"
   ]
  },
  {
   "cell_type": "code",
   "execution_count": 71,
   "metadata": {},
   "outputs": [
    {
     "data": {
      "image/png": "[encoded data removed]",
      "text/plain": [
       "<Figure size 432x288 with 1 Axes>"
      ]
     },
     "metadata": {},
     "output_type": "display_data"
    }
   ],
   "source": [
    "plt.hist(temp_df,bins=12)\n",
    "plt.ylabel('Frequency')\n",
    "plt.xlabel('Temperature')\n",
    "plt.show()"
   ]
  },
  {
   "cell_type": "markdown",
   "metadata": {},
   "source": [
    "# Close session"
   ]
  },
  {
   "cell_type": "code",
   "execution_count": 82,
   "metadata": {},
   "outputs": [],
   "source": [
    "# Close Session\n",
    "session.close()"
   ]
  }
 ],
 "metadata": {
  "anaconda-cloud": {},
  "kernel_info": {
   "name": "python3"
  },
  "kernelspec": {
   "display_name": "Python 3 (ipykernel)",
   "language": "python",
   "name": "python3"
  },
  "language_info": {
   "codemirror_mode": {
    "name": "ipython",
    "version": 3
   },
   "file_extension": ".py",
   "mimetype": "text/x-python",
   "name": "python",
   "nbconvert_exporter": "python",
   "pygments_lexer": "ipython3",
   "version": "3.9.12"
  },
  "nteract": {
   "version": "0.12.3"
  },
  "varInspector": {
   "cols": {
    "lenName": 16,
    "lenType": 16,
    "lenVar": 40
   },
   "kernels_config": {
    "python": {
     "delete_cmd_postfix": "",
     "delete_cmd_prefix": "del ",
     "library": "var_list.py",
     "varRefreshCmd": "print(var_dic_list())"
    },
    "r": {
     "delete_cmd_postfix": ") ",
     "delete_cmd_prefix": "rm(",
     "library": "var_list.r",
     "varRefreshCmd": "cat(var_dic_list()) "
    }
   },
   "types_to_exclude": [
    "module",
    "function",
    "builtin_function_or_method",
    "instance",
    "_Feature"
   ],
   "window_display": false
  }
 },
 "nbformat": 4,
 "nbformat_minor": 2
}
